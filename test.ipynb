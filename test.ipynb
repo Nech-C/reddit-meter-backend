{
 "cells": [
  {
   "cell_type": "markdown",
   "id": "0cebbccc",
   "metadata": {},
   "source": [
    "# test reddit api"
   ]
  },
  {
   "cell_type": "code",
   "execution_count": 4,
   "id": "052e43fe",
   "metadata": {},
   "outputs": [
    {
     "data": {
      "text/plain": [
       "True"
      ]
     },
     "execution_count": 4,
     "metadata": {},
     "output_type": "execute_result"
    }
   ],
   "source": [
    "import os\n",
    "\n",
    "from dotenv import load_dotenv\n",
    "import praw\n",
    "load_dotenv()"
   ]
  },
  {
   "cell_type": "code",
   "execution_count": 5,
   "id": "bfb012ca",
   "metadata": {},
   "outputs": [
    {
     "name": "stdout",
     "output_type": "stream",
     "text": [
      "Fabulous_Cherry2510\n"
     ]
    }
   ],
   "source": [
    "try:\n",
    "    reddit = praw.Reddit(\n",
    "        client_id = os.getenv(\"REDDIT_CLIENT_ID\"),\n",
    "        client_secret = os.getenv(\"REDDIT_CLIENT_SECRET\"),\n",
    "        password = os.getenv(\"REDDIT_PASSWORD\"),\n",
    "        user_agent = os.getenv(\"REDDIT_USER_AGENT\"),\n",
    "        username = os.getenv(\"REDDIT_USERNAME\")\n",
    "    )\n",
    "except Exception as e:\n",
    "    print(f\"Error initializing Reddit client: {e}\")\n",
    "\n",
    "print(reddit.user.me())"
   ]
  },
  {
   "cell_type": "code",
   "execution_count": 6,
   "id": "19a15855",
   "metadata": {},
   "outputs": [],
   "source": [
    "subreddit = reddit.subreddit(\"news\")\n",
    "posts = subreddit.hot(limit=10)"
   ]
  },
  {
   "cell_type": "code",
   "execution_count": 7,
   "id": "58586576",
   "metadata": {},
   "outputs": [],
   "source": [
    "posts = list(posts)"
   ]
  },
  {
   "cell_type": "code",
   "execution_count": 8,
   "id": "2c8678e5",
   "metadata": {},
   "outputs": [
    {
     "name": "stdout",
     "output_type": "stream",
     "text": [
      "Title: ICE arrested a 6-year-old boy with leukemia at immigration court. His family is suing.\n",
      "selftext: \n",
      "----------------------------------------\n",
      "Title: College graduates face toughest job market in more than a decade as hiring slows\n",
      "selftext: \n",
      "----------------------------------------\n",
      "Title: Man who killed London schoolboy with samurai sword is convicted of murder\n",
      "selftext: \n",
      "----------------------------------------\n",
      "Title: US economy shrank 0.5% between January and March, worse than 2 earlier estimates had revealed\n",
      "selftext: \n",
      "----------------------------------------\n",
      "Title: Meta wins AI copyright lawsuit as US judge rules against authors\n",
      "selftext: \n",
      "----------------------------------------\n",
      "Title: Hundreds of weight loss and diabetes jab users report pancreas problems\n",
      "selftext: \n",
      "----------------------------------------\n",
      "Title: Family members outraged as U.S. citizen detained by federal agents in downtown LA on way to work\n",
      "selftext: \n",
      "----------------------------------------\n",
      "Title: Billionaires’ wealth surged $6.5tn over past decade, Oxfam reports\n",
      "selftext: \n",
      "----------------------------------------\n",
      "Title: Kilmar Abrego Garcia is expected to be released from jail only to be taken into immigration custody\n",
      "selftext: \n",
      "----------------------------------------\n",
      "Title: 'Liver King' influencer arrested in Texas after threatening Joe Rogan\n",
      "selftext: \n",
      "----------------------------------------\n"
     ]
    }
   ],
   "source": [
    "for post in posts:\n",
    "    print(f\"Title: {post.title}\")\n",
    "    print(f\"selftext: {post.selftext}\")\n",
    "    print(\"-\" * 40)"
   ]
  },
  {
   "cell_type": "code",
   "execution_count": null,
   "id": "0f3c3baf",
   "metadata": {},
   "outputs": [],
   "source": [
    "popular = reddit.subreddits.popular(limit=200)\n",
    "for sub in popular:\n",
    "    print(sub.display_name)"
   ]
  },
  {
   "cell_type": "markdown",
   "id": "d4b19079",
   "metadata": {},
   "source": [
    "# test target subreddits"
   ]
  },
  {
   "cell_type": "code",
   "execution_count": 3,
   "id": "a6431b0a",
   "metadata": {},
   "outputs": [
    {
     "data": {
      "text/plain": [
       "True"
      ]
     },
     "execution_count": 3,
     "metadata": {},
     "output_type": "execute_result"
    }
   ],
   "source": [
    "import os\n",
    "\n",
    "from dotenv import load_dotenv\n",
    "import praw\n",
    "load_dotenv(\".env.dev\")"
   ]
  },
  {
   "cell_type": "code",
   "execution_count": 4,
   "id": "79c2eca3",
   "metadata": {},
   "outputs": [
    {
     "name": "stdout",
     "output_type": "stream",
     "text": [
      "Initializing Reddit client again...\n",
      "Fabulous_Cherry2510\n"
     ]
    }
   ],
   "source": [
    "try:\n",
    "    print(reddit.user.me())\n",
    "except Exception:\n",
    "    print(\"Initializing Reddit client again...\")\n",
    "    reddit = praw.Reddit(\n",
    "        client_id = os.getenv(\"REDDIT_CLIENT_ID\"),\n",
    "        client_secret = os.getenv(\"REDDIT_CLIENT_SECRET\"),\n",
    "        password = os.getenv(\"REDDIT_PASSWORD\"),\n",
    "        user_agent = os.getenv(\"REDDIT_USER_AGENT\"),\n",
    "        username = os.getenv(\"REDDIT_USERNAME\")\n",
    "    )\n",
    "\n",
    "    print(reddit.user.me())"
   ]
  },
  {
   "cell_type": "code",
   "execution_count": 6,
   "id": "ccbb976d",
   "metadata": {},
   "outputs": [],
   "source": [
    "import json\n",
    "from prawcore.exceptions import NotFound, Forbidden\n",
    "import time\n",
    "\n",
    "def is_valid_subreddit(name, reddit):\n",
    "    try:\n",
    "        reddit.subreddits.search_by_name(name, exact=True)\n",
    "        return True\n",
    "    except (NotFound, Forbidden):\n",
    "        return False\n",
    "    except Exception as e:\n",
    "        print(f\"⚠️ Unexpected error while checking {name}: {e}\")\n",
    "        return False\n",
    "\n",
    "def validate_all_subreddits(filepath: str, reddit):\n",
    "    with open(filepath, \"r\") as f:\n",
    "        sub_dict = json.load(f)\n",
    "\n",
    "    invalid = []\n",
    "\n",
    "    for category, subs in sub_dict.items():\n",
    "        print(f\"\\n🔍 Validating category: {category}\")\n",
    "        for sub in subs:\n",
    "            if not is_valid_subreddit(sub, reddit):\n",
    "                print(f\"❌ Invalid: {sub}\")\n",
    "                invalid.append(sub)\n",
    "            else:\n",
    "                print(f\"✅ Valid: {sub}\")\n",
    "            time.sleep(0.3)  # Respect API rate limit\n",
    "\n",
    "    print(\"\\n⛔ Invalid Subreddits:\")\n",
    "    for sub in invalid:\n",
    "        print(f\"- {sub}\")\n",
    "\n",
    "    return invalid\n"
   ]
  },
  {
   "cell_type": "code",
   "execution_count": 7,
   "id": "3969b565",
   "metadata": {},
   "outputs": [
    {
     "name": "stdout",
     "output_type": "stream",
     "text": [
      "\n",
      "🔍 Validating category: News & Politics\n",
      "✅ Valid: news\n",
      "✅ Valid: worldnews\n",
      "✅ Valid: politics\n",
      "✅ Valid: nottheonion\n",
      "✅ Valid: todayilearned\n",
      "✅ Valid: explainlikeimfive\n",
      "✅ Valid: AskHistorians\n",
      "✅ Valid: europe\n",
      "✅ Valid: AskUK\n",
      "✅ Valid: AskMen\n",
      "✅ Valid: AskWomen\n",
      "\n",
      "🔍 Validating category: Finance & Economics\n",
      "✅ Valid: wallstreetbets\n",
      "✅ Valid: personalfinance\n",
      "✅ Valid: PersonalFinanceCanada\n",
      "✅ Valid: Frugal\n",
      "✅ Valid: povertyfinance\n",
      "✅ Valid: recruitinghell\n",
      "✅ Valid: Scams\n",
      "✅ Valid: crypto\n",
      "✅ Valid: finance\n",
      "\n",
      "🔍 Validating category: Education & Questions\n",
      "✅ Valid: AskReddit\n",
      "✅ Valid: NoStupidQuestions\n",
      "✅ Valid: OutOfTheLoop\n",
      "✅ Valid: TooAfraidToAsk\n",
      "✅ Valid: explainlikeimfive\n",
      "✅ Valid: changemyview\n",
      "✅ Valid: learnprogramming\n",
      "✅ Valid: cscareerquestions\n",
      "\n",
      "🔍 Validating category: Pop Culture & Entertainment\n",
      "✅ Valid: movies\n",
      "✅ Valid: television\n",
      "✅ Valid: Fauxmoi\n",
      "✅ Valid: popculturechat\n",
      "✅ Valid: Kanye\n",
      "✅ Valid: marvelstudios\n",
      "✅ Valid: TwoXChromosomes\n",
      "✅ Valid: JoeRogan\n",
      "✅ Valid: comics\n",
      "\n",
      "🔍 Validating category: Gaming\n",
      "✅ Valid: gaming\n",
      "✅ Valid: pcgaming\n",
      "✅ Valid: GlobalOffensive\n",
      "✅ Valid: FortNiteBR\n",
      "✅ Valid: leagueoflegends\n",
      "✅ Valid: minecraft\n",
      "✅ Valid: Genshin_Impact\n",
      "✅ Valid: Genshin_Impact_Leaks\n",
      "✅ Valid: apexlegends\n",
      "✅ Valid: pathofexile\n",
      "✅ Valid: HonkaiStarRail\n",
      "✅ Valid: HonkaiStarRail_leaks\n",
      "✅ Valid: Overwatch\n",
      "✅ Valid: Eldenring\n",
      "✅ Valid: Helldivers\n",
      "✅ Valid: classicwow\n",
      "✅ Valid: dota2\n",
      "✅ Valid: Tekken\n",
      "✅ Valid: Warframe\n",
      "✅ Valid: Destiny\n",
      "✅ Valid: Steam\n",
      "✅ Valid: SteamDeck\n",
      "✅ Valid: Palworld\n",
      "✅ Valid: 2007scape\n",
      "✅ Valid: BG3Builds\n",
      "✅ Valid: BaldursGate3\n",
      "✅ Valid: cyberpunkgame\n",
      "✅ Valid: RPClipsGTA\n",
      "✅ Valid: VirtualYoutubers\n",
      "✅ Valid: Hololive\n",
      "✅ Valid: Nijisanji\n",
      "✅ Valid: Asmongold\n",
      "✅ Valid: PERSoNA\n",
      "\n",
      "🔍 Validating category: Tech & Programming\n",
      "✅ Valid: technology\n",
      "✅ Valid: techsupport\n",
      "✅ Valid: selfhosted\n",
      "✅ Valid: homelab\n",
      "✅ Valid: nvidia\n",
      "✅ Valid: apple\n",
      "✅ Valid: iphone\n",
      "✅ Valid: ChatGPT\n",
      "✅ Valid: StableDiffusion\n",
      "✅ Valid: ProgrammerHumor\n",
      "✅ Valid: sysadmin\n",
      "\n",
      "🔍 Validating category: Data & Analytics\n",
      "✅ Valid: dataisbeautiful\n",
      "❌ Invalid: thedatalist\n",
      "✅ Valid: theydidthemath\n",
      "✅ Valid: coolguides\n",
      "✅ Valid: mapPorn\n",
      "\n",
      "🔍 Validating category: Art & Creativity\n",
      "✅ Valid: interestingasfuck\n",
      "✅ Valid: Damnthatsinteresting\n",
      "✅ Valid: mildlyinteresting\n",
      "✅ Valid: BeAmazed\n",
      "✅ Valid: pics\n",
      "✅ Valid: videos\n",
      "✅ Valid: youtube\n",
      "✅ Valid: Music\n",
      "✅ Valid: books\n",
      "✅ Valid: Cooking\n",
      "✅ Valid: KitchenConfidential\n",
      "\n",
      "🔍 Validating category: Memes & Humor\n",
      "✅ Valid: memes\n",
      "✅ Valid: dankmemes\n",
      "✅ Valid: facepalm\n",
      "✅ Valid: unexpected\n",
      "✅ Valid: shitposting\n",
      "✅ Valid: HolUp\n",
      "✅ Valid: ChatGPT\n",
      "✅ Valid: TikTokCringe\n",
      "✅ Valid: malelivingspace\n",
      "✅ Valid: BoomersBeingFools\n",
      "✅ Valid: ImTheMainCharacter\n",
      "✅ Valid: CleverComebacks\n",
      "✅ Valid: PeterExplainsTheJoke\n",
      "✅ Valid: ExplainTheJoke\n",
      "\n",
      "🔍 Validating category: Mental Health & Self\n",
      "✅ Valid: antiwork\n",
      "✅ Valid: TrueOffMyChest\n",
      "✅ Valid: relationship_advice\n",
      "✅ Valid: AITAH\n",
      "✅ Valid: AmItheAsshole\n",
      "✅ Valid: badroommates\n",
      "✅ Valid: tifu\n",
      "✅ Valid: TooAfraidToAsk\n",
      "✅ Valid: teenagers\n",
      "\n",
      "🔍 Validating category: Social & Cultural Commentary\n",
      "✅ Valid: BlackPeopleTwitter\n",
      "✅ Valid: WhitePeopleTwitter\n",
      "✅ Valid: CasualUK\n",
      "✅ Valid: Millennials\n",
      "✅ Valid: GenZ\n",
      "✅ Valid: SipsTea\n",
      "\n",
      "🔍 Validating category: DIY, Science & Niche Interests\n",
      "✅ Valid: DIY\n",
      "✅ Valid: science\n",
      "✅ Valid: MagicTCG\n",
      "✅ Valid: feedthebeast\n",
      "✅ Valid: StardewValley\n",
      "✅ Valid: 3Dprinting\n",
      "✅ Valid: snowboarding\n",
      "✅ Valid: Truckers\n",
      "✅ Valid: college\n",
      "✅ Valid: travel\n",
      "✅ Valid: geography\n",
      "✅ Valid: LifeProTips\n",
      "\n",
      "🔍 Validating category: Conflict & Reality\n",
      "✅ Valid: PublicFreakout\n",
      "✅ Valid: Wellthatsucks\n",
      "✅ Valid: CombatFootage\n",
      "✅ Valid: UkraineWarVideoReport\n",
      "✅ Valid: CrazyFuckingVideos\n",
      "✅ Valid: Warthunder\n",
      "\n",
      "🔍 Validating category: NSFW & Fringe\n",
      "✅ Valid: gonewildaudio\n",
      "✅ Valid: Piracy\n",
      "✅ Valid: PiratedGames\n",
      "✅ Valid: CrackWatch\n",
      "✅ Valid: hentai\n",
      "\n",
      "⛔ Invalid Subreddits:\n",
      "- thedatalist\n"
     ]
    },
    {
     "data": {
      "text/plain": [
       "['thedatalist']"
      ]
     },
     "execution_count": 7,
     "metadata": {},
     "output_type": "execute_result"
    }
   ],
   "source": [
    "from app.reddit.fetch import reddit  # or however you initialize reddit\n",
    "validate_all_subreddits(\"/home/nech/projects/reddit-meter-backend/subreddits.json\", reddit)\n"
   ]
  },
  {
   "cell_type": "code",
   "execution_count": 13,
   "id": "228e82a1",
   "metadata": {},
   "outputs": [
    {
     "name": "stdout",
     "output_type": "stream",
     "text": [
      "Category: News & Politics\n",
      "----------------------------------------\n",
      "Category: Finance & Economics\n",
      "----------------------------------------\n",
      "Category: Education & Questions\n",
      "----------------------------------------\n",
      "Category: Pop Culture & Entertainment\n",
      "----------------------------------------\n",
      "Category: Gaming\n",
      "----------------------------------------\n",
      "Category: Tech & Programming\n",
      "----------------------------------------\n",
      "Category: Data & Analytics\n",
      "----------------------------------------\n",
      "Category: Art & Creativity\n",
      "----------------------------------------\n",
      "Category: Memes & Humor\n",
      "----------------------------------------\n",
      "Category: Mental Health & Self\n",
      "----------------------------------------\n",
      "Category: Social & Cultural Commentary\n",
      "----------------------------------------\n",
      "Category: DIY, Science & Niche Interests\n",
      "----------------------------------------\n",
      "Category: Conflict & Reality\n",
      "----------------------------------------\n",
      "Category: NSFW & Fringe\n",
      "----------------------------------------\n"
     ]
    }
   ],
   "source": [
    "subreddit_json = \"./subreddits.json\"\n",
    "subs_by_category = json.load(open(subreddit_json, \"r\"))\n",
    "for category, subs in subs_by_category.items():\n",
    "    print(f\"Category: {category}\")\n",
    "    for sub in subs:\n",
    "        # try getting subreddit info using api\n",
    "        subreddit = reddit.subreddit(sub)\n",
    "        if subreddit:\n",
    "            pass\n",
    "            # print(f\"subreddit {subreddit.display_name} ({sub}) exists!\")\n",
    "        else:\n",
    "            print(f\"subreddit {sub} does not exist or could not be fetched.\")\n",
    "    print(\"-\" * 40)"
   ]
  },
  {
   "cell_type": "markdown",
   "id": "81b1d0c4",
   "metadata": {},
   "source": [
    "# test inference:"
   ]
  },
  {
   "cell_type": "code",
   "execution_count": 2,
   "id": "21c609cb",
   "metadata": {},
   "outputs": [
    {
     "name": "stderr",
     "output_type": "stream",
     "text": [
      "Device set to use cuda:0\n"
     ]
    }
   ],
   "source": [
    "from transformers import pipeline\n",
    "\n",
    "classifier = pipeline(\n",
    "    \"text-classification\",\n",
    "    model=\"bhadresh-savani/distilbert-base-uncased-emotion\",\n",
    "    top_k=None,\n",
    ")\n",
    "\n",
    "def run_batch_inference(texts: list[str]) -> list[dict]:\n",
    "    # Truncate each to 512 characters\n",
    "    truncated_texts = [text[:512] for text in texts]\n",
    "    results = classifier(truncated_texts)\n",
    "\n",
    "    return [\n",
    "        {res[\"label\"]: res[\"score\"] for res in result}\n",
    "        for result in results\n",
    "    ]\n"
   ]
  },
  {
   "cell_type": "code",
   "execution_count": 6,
   "id": "a3dcd808",
   "metadata": {},
   "outputs": [
    {
     "name": "stdout",
     "output_type": "stream",
     "text": [
      "Running batch inference...\n",
      "Text: I had such a great day today! The weather was perfect and I got to spend time with my friends.\n",
      "Emotions:\n",
      "  joy: 0.9984\n",
      "  sadness: 0.0004\n",
      "  love: 0.0004\n",
      "  surprise: 0.0003\n",
      "  anger: 0.0003\n",
      "  fear: 0.0002\n",
      "----------------------------------------\n",
      "Text: I am so angry at my friend for canceling our plans last minute. I feel betrayed and hurt.\n",
      "Emotions:\n",
      "  sadness: 0.9319\n",
      "  fear: 0.0430\n",
      "  love: 0.0115\n",
      "  anger: 0.0089\n",
      "  joy: 0.0034\n",
      "  surprise: 0.0013\n",
      "----------------------------------------\n",
      "Text: I am feeling really sad today. I just can't shake off this feeling of emptiness.\n",
      "Emotions:\n",
      "  sadness: 0.9991\n",
      "  love: 0.0002\n",
      "  anger: 0.0002\n",
      "  fear: 0.0002\n",
      "  joy: 0.0002\n",
      "  surprise: 0.0001\n",
      "----------------------------------------\n",
      "Text: I am so excited for the concert next week! I cant wait to see my favorite band perform live.\n",
      "Emotions:\n",
      "  joy: 0.9900\n",
      "  love: 0.0087\n",
      "  sadness: 0.0005\n",
      "  surprise: 0.0004\n",
      "  anger: 0.0003\n",
      "  fear: 0.0002\n",
      "----------------------------------------\n",
      "Text: I am feeling really anxious about the upcoming exam. I just can't seem to focus on studying.\n",
      "Emotions:\n",
      "  fear: 0.9977\n",
      "  sadness: 0.0007\n",
      "  surprise: 0.0007\n",
      "  anger: 0.0005\n",
      "  joy: 0.0003\n",
      "  love: 0.0001\n",
      "----------------------------------------\n",
      "Text: 我今天过得真开心！天气很好，我和朋友们一起度过了美好时光。\n",
      "Emotions:\n",
      "  joy: 0.5543\n",
      "  anger: 0.1485\n",
      "  sadness: 0.1400\n",
      "  fear: 0.1177\n",
      "  love: 0.0251\n",
      "  surprise: 0.0144\n",
      "----------------------------------------\n",
      "Text: 我对朋友临时取消计划感到非常生气。我感到被背\n",
      "Emotions:\n",
      "  joy: 0.4011\n",
      "  fear: 0.2395\n",
      "  anger: 0.1683\n",
      "  sadness: 0.1490\n",
      "  love: 0.0253\n",
      "  surprise: 0.0167\n",
      "----------------------------------------\n"
     ]
    }
   ],
   "source": [
    "inputs = [\n",
    "    'I had such a great day today! The weather was perfect and I got to spend time with my friends.',\n",
    "    'I am so angry at my friend for canceling our plans last minute. I feel betrayed and hurt.',\n",
    "    'I am feeling really sad today. I just can\\'t shake off this feeling of emptiness.',\n",
    "    'I am so excited for the concert next week! I cant wait to see my favorite band perform live.',\n",
    "    'I am feeling really anxious about the upcoming exam. I just can\\'t seem to focus on studying.',\n",
    "    \"我今天过得真开心！天气很好，我和朋友们一起度过了美好时光。\",\n",
    "    \"我对朋友临时取消计划感到非常生气。我感到被背\",\n",
    "]\n",
    "\n",
    "print(\"Running batch inference...\")\n",
    "results = run_batch_inference(inputs)\n",
    "\n",
    "for text, result in zip(inputs, results):\n",
    "    print(f\"Text: {text}\")\n",
    "    print(\"Emotions:\")\n",
    "    for emotion, score in result.items():\n",
    "        print(f\"  {emotion}: {score:.4f}\")\n",
    "    print(\"-\" * 40)"
   ]
  },
  {
   "cell_type": "markdown",
   "id": "68ed8a91",
   "metadata": {},
   "source": [
    "# test reddit + inference"
   ]
  },
  {
   "cell_type": "code",
   "execution_count": 1,
   "id": "ab1bf7a8",
   "metadata": {},
   "outputs": [
    {
     "name": "stderr",
     "output_type": "stream",
     "text": [
      "Device set to use cuda:0\n",
      "/home/nech/projects/reddit-meter-backend/.venv/lib/python3.13/site-packages/transformers/pipelines/text_classification.py:106: UserWarning: `return_all_scores` is now deprecated,  if want a similar functionality use `top_k=None` instead of `return_all_scores=True` or `top_k=1` instead of `return_all_scores=False`.\n",
      "  warnings.warn(\n"
     ]
    },
    {
     "name": "stdout",
     "output_type": "stream",
     "text": [
      "Logged in as Fabulous_Cherry2510\n"
     ]
    }
   ],
   "source": [
    "from app.ml.inference import run_batch_inference\n",
    "from app.reddit.fetch import fetch_subreddit_posts"
   ]
  },
  {
   "cell_type": "code",
   "execution_count": 2,
   "id": "1ea8075d",
   "metadata": {},
   "outputs": [
    {
     "name": "stdout",
     "output_type": "stream",
     "text": [
      "Processing submission: 1lh6ht3 - Looking for more mods!\n",
      "Processing submission: 1l4t34l - AITAH for banning users with scam links and other domains mostly bots use?\n",
      "Processing submission: 1lkciv6 - AITA for silently changing my son's name after my brother and SIL gave my nephew the name too?\n",
      "Processing submission: 1lk5y9b - AITAH for telling my mom I don’t forgive her for choosing her boyfriend over me when I was a kid?\n",
      "Processing submission: 1lk857o - AITAH: for postponing the wedding when my fiance was demanding to be paid back the money he paid for his late wife's surgery?\n",
      "Processing submission: 1lkdiuf - AITAH for kicking my mom out of my graduation dinner after she brought her husband instead of my dad?\n"
     ]
    }
   ],
   "source": [
    "posts = fetch_subreddit_posts(\"AITAH\", required_posts=5)"
   ]
  },
  {
   "cell_type": "code",
   "execution_count": 5,
   "id": "be733193",
   "metadata": {},
   "outputs": [
    {
     "ename": "IndexError",
     "evalue": "list index out of range",
     "output_type": "error",
     "traceback": [
      "\u001b[31m---------------------------------------------------------------------------\u001b[39m",
      "\u001b[31mIndexError\u001b[39m                                Traceback (most recent call last)",
      "\u001b[36mCell\u001b[39m\u001b[36m \u001b[39m\u001b[32mIn[5]\u001b[39m\u001b[32m, line 1\u001b[39m\n\u001b[32m----> \u001b[39m\u001b[32m1\u001b[39m \u001b[38;5;28mprint\u001b[39m(\u001b[43mposts\u001b[49m\u001b[43m[\u001b[49m\u001b[32;43m0\u001b[39;49m\u001b[43m]\u001b[49m)\n",
      "\u001b[31mIndexError\u001b[39m: list index out of range"
     ]
    }
   ],
   "source": [
    "print(posts[0])"
   ]
  },
  {
   "cell_type": "code",
   "execution_count": 4,
   "id": "bf3d3061",
   "metadata": {},
   "outputs": [
    {
     "name": "stdout",
     "output_type": "stream",
     "text": [
      "Post: AITAH for banning users with scam links and other domains mostly bots use? Hello AITAH community!\n",
      "\n",
      "Since our head mod began recruiting efforts a few months ago, we've expanded our moderation team and increased our toolkit to try to give you the best experience this sub can offer. Our last mod announcement was unfortunately on April 1st but we assure you our efforts are not a joke. We care about this community and want to see the quality in this community continue to improve.\n",
      "\n",
      "Here are a few changes we've implemented over the last few months since the new team came on:\n",
      "\n",
      "Automod: We actually use it now! We're banning social media links, scam links, amazon links, anything that can be used to monetize or self-promote has been banned. We also try to filter out those oh-so-real posts about making it big on gambling sites and we continually adjust the filter on hot topics. Nobody needs rage bait, right? Additionally we get warnings if a post or comment gets too many reports. Reports are important, this will be a theme in the post.\n",
      "\n",
      "Rules: Rules have been refined and expounded upon. You may have noticed some comments removed for name calling or incivility. Reports from users really help us find these (theme). We have put the rules in the sidebar, the new.reddit sidebar, and the wiki. No matter how you reddit, the new rules are there, you should see them and maybe take a moment to review them. If we were to undergo anything more drastic than common sense rule changes, we will announce them in a post and sticky it.\n",
      "\n",
      "We've also added automated tools against ban evasion, bots, karma farmers, and scammers. None of these are perfect, obviously, but they have managed to catch some of the repeat trolls, lower-quality bots, and most of the \"AITAH for looking too hot in my bikini? link to my OF here btw\" posts. If you get caught in one of these, the initial modmail should contain instructions on how to reverse it, otherwise reach out and we will investigate.\n",
      "\n",
      "A specific note about one of these tools: it checks links in your profile and your activity on specific karma-farming subreddits. We do not police regular subreddit usage, you will never see us ban you for posting in \"normal\" subreddits such as sports, your city subreddit, or even political subs. We only ban participants in karma farming or scammer-oriented subs. We also don't ban normal social links - your FB, Insta, etc. are all fine. We ban links where people could give you money - both SFW ones like Venmo and CashApp and NSFW ones. If you need these links in your profile, you can make an alt account without the links, and we will ignore Reddit's ban evasion warnings if you let us know. We can't sort out the real enterprising users who frequent this sub from those that are owners of hundreds of bots, and we won't attempt the effort or the botfarm owners would just appeal the bans. We are not anti-sex worker or anti-entrepreneur, we are anti bots. Blame the bots or yell at us and take a perma.\n",
      "\n",
      "Report alerts (theme): We get bat-signals for reports now. Please, please use reports appropriately and not as a super-downvote. If a comment or post gets enough reports, we at least lay eyes on them and discuss internally. We have modmail, we have a chat group. We don't only look at reported posts, but reporting them makes them much more visible to us. We've seen the shittiest ragebait barely garner 3 reports on something with 2k karma, and there will be 50 comments calling it fake. We need your reports, we use them. Please report responsibly and we'll do our part, we know mods have been less responsive in the past but our mod team has grown and so has our response team. Please report personal attacks and AI slop, we hate both. A note on the custom report feature - this can be helpful to note previous posts by OP, or a link to an old post they obviously copied from, but sometimes it is less helpful. We can mute reports from someone if they make unhelpful custom reports, and if that happens too often we will disable that feature.\n",
      "\n",
      "These automations come with collateral damage. We get people who got hacked and had those links put in their profile. We get software devs who just leave an open hand asking for a coffee if you appreciate their efforts. We get people who mostly post in local city subs looking to pawn off their wares. We get bots. Like a lot of bots. Like holy shit a lot of them. The ban to complaint ratio is still very good but every morning the moderation team wakes up to appeals because xXSweetCherryXx, an account made 19 hours ago, can't post here any more because \"she\" has links to OF, paypal, and/or fansly (this is not a comprehensive example, it's a lot more) on her profile. If we didn't ban them then, they'd be banned in a dozen days after making some AI shitpost and then shitting up other subs spamming their AI onlyfans content.\n",
      "\n",
      "We put these restrictions in place to allow the most common contributor to the sub to persist. The \"This is a throwaway, here is my real story\" user. We can put in account age limits, but the bots use abandoned reddit profiles, the bot owners are also patient. We can put in karma requirements, but the bots karma farm in karma farm subs or no-karma-required subs. We cannot impose limitations that do not adversely affect the real contributions to this subreddit. So instead we added the automated tools. It's the best solution we have now while leaving the door open to genuine throwaways. If the community is so sick of the fake posts that you want us to try these anyway, please let us know and we will try to implement this in a way that minimizes the collateral to real throwaways.\n",
      "\n",
      "Our final say is the tools do more good than harm, much to the dismay of our more entrepreneurial posters who are real people. We have actually been repeatedly asked by mods of other major subreddits to implement some of these tools, since they notice the shitposters build up their karma minimums here. It is the mod team's opinion that this policy is a largely net good, but we want to remain transparent as we implement broader changes to the sub.\n",
      "\n",
      "So reddit, AITAH for adding apps to block scam links, auto-hide comments with a ton of reports, and block users who have links that are commonly associated with scams? NTA. Thanks for what you do. All very reasonable. Thanks for looking out for the community.  NTA I'm seeing a big problem where someone says something true but unpopular, and then the people who didn't like the thing being said mass report the comment until the auto mod bans the person.\n",
      "\n",
      "\n",
      "We even have a reminder to not downvote assholes, yet it still happens and the mass reporting is just a continuation of that.  I have no solutions besides turning off the auto-ban for mass reports, but you should consider this problem more deeply. NTA\n",
      "\n",
      "Feel free to ban more people.  So many ChatGPT posts here lately.  Ban them, with a hammer.\n",
      "\n",
      "\\> Please, please use reports appropriately and not as a super-downvote.\n",
      "\n",
      "Reporting obvious AI and fake BS is my favorite hobby.\n",
      "[{'sadness': 0.0007107401033863425, 'joy': 0.9961407780647278, 'love': 0.0006833937950432301, 'anger': 0.001897065551020205, 'fear': 0.00036362759419716895, 'surprise': 0.0002045424043899402}]\n",
      "Post: AITA for silently changing my son's name after my brother and SIL gave my nephew the name too? My wife and I had our son 4 months ago. We had a name chosen early in her pregnancy. We kept that name to ourselves but my SIL (married to my brother) found it out when she was still pregnant with my nephew (almost 7 months old). She never said how. She just told us she loved the name, congrats and she couldn't wait to meet him. We assume she snooped because she was not told. I even mentioned it to my brother and he said that his wife does like to browse through people's things like it was no biggie. \n",
      "\n",
      "Then when my nephew was born they announced his name and it was the name we chose. First, middle and last name. My brother called right after SIL posted the announcement and he told me to keep quiet because his wife had a rough birth and she didn't need drama and he knew we might not like it but she really wanted the name.\n",
      "\n",
      "Her reason? My brother and I have matching twin-like names and SIL wanted to connect our two boys by just giving them the same name so they were each other's namesake.\n",
      "\n",
      "My wife and I talked it over and we decided to pick a different name. But we'd pretend to keep the original name until there was zero risk of SIL changing my nephew's name (6 months after a birth is harder to make a change in our state).\n",
      "\n",
      "We only started telling people the true name last week. My parents and sisters said it made sense. Friends and my ILs understood why we did it. My brother told me I upset his wife by silently doing this shit and taking away her choice to match the boys. He told me it was a dick move. I told him his wife using the full name we chose was a dick move.\n",
      "\n",
      "I asked him if he considered how much tougher it would be with both boys enrolled in the same schools with the very same name. Not to mention banking, doctors, dental all kinds of stuff. He told me plenty of people have the same name and it's not a big deal and it's harder to mix shit up now and we're just trying to gatekeep names.\n",
      "\n",
      "I think he's cray. So does my wife. She said he clearly doesn't want SIL to be mad. But AITA for what I did? Like are we weird for thinking of this kind of stuff? Definitely NTA: Your brother is outraged that you \"took away SIL's choice to match the boys\" What about the fact that she took away your choice to have an individual name?  By invading your privacy? He's fine with that I assume? But you didn't 'gatekeep'. You didn't tell them they had to change the name they stole from you. You were quite kind and didn't make a fuss over it.  \n",
      "They are mentally deficient. Congrats on your new baby ♥ NTA for not letting SIL dictate names, her snooping was low-key whack. Your boy deserves an identity that's uniquely his, sans familial name-cloning drama. Normally I would say that you don't own the name, but the issue here is with SIL's deciding on her own \"to match the boys\".  That's just weird.  NTA. NTA, and honestly? You’re kind of a legend. Your SIL straight up stole the name from your unborn child like it was a baby naming Black Friday sale. First, middle, and last? That’s not “connecting the cousins,” that’s identity theft with extra audacity. And your brother’s like, “Please don’t cause drama, she just gave birth.” Sir, your wife created drama.. You handled it perfectly: strategic silence, tactical rename, and a plot twist reveal once the name-change window closed. That’s Game of Thrones-level parenting. Also, let’s be real your brother saying “plenty of people have the same name” is hilarious when they deliberately stole yours. That’s not coincidence, that’s copy pasting.\n",
      "[{'sadness': 0.008304156363010406, 'joy': 0.1721690446138382, 'love': 0.007404423784464598, 'anger': 0.631305456161499, 'fear': 0.17879517376422882, 'surprise': 0.002021694788709283}]\n",
      "Post: AITAH for telling my mom I don’t forgive her for choosing her boyfriend over me when I was a kid? When I was 12, my mom started dating a guy who clearly didn’t like me. He was always cold, made snide comments, and treated me like I was in the way. I told my mom how uncomfortable I felt, but she always defended him and told me I was exaggerating. Eventually, she stopped picking me up from school if it interfered with his plans. I spent a lot of nights at my aunt’s house just to avoid being home.\n",
      "\n",
      "By the time I was 15, I moved in with my dad full-time. My mom barely called or checked in. She married the guy a year later. I wasn’t invited to the wedding. I didn’t even know it happened until a cousin mentioned it. I stopped trying after that. We went years without speaking, until recently when she reached out saying she wants to rebuild things.\n",
      "\n",
      "We met for coffee, and she started talking like we were just going to pick up where we left off. I told her I can be polite, but I don’t forgive her. I said she made her choice back then and it wasn’t me. She started crying and said I was being unfair. She said she was trying her best. I said maybe, but your best hurt me.\n",
      "\n",
      "Now she says I’m cold and holding onto the past, and some relatives agree. But I don’t feel like she ever took real responsibility. So am I the asshole for not letting it go\n",
      "Aita? NTA\n",
      "\n",
      "she failed you, not the other way around. imagine telling your child that it's unfair to hold your total abandonment of them against you. IT SHOULD BE HELD AGAINST YOU\n",
      "\n",
      "i can't even breathe, the audacity What is wrong with your mom? Tf? Nta NTA. Your mom is a terrible parent and a terrible person. She has to live with the consequences of her actions. You have overcome an abusive childhood. Good for you. Tell her you know she was doing her best, and that's the problem.  If you thought she would be able to do better in the future, you might be open to reconciling.  But you believe her- that truly was her best, and it wasn't nearly good enough, so there's no point in going forward with a relationship.  NTA. NTA - Idk how old you are but have you seen a 12-year-old recently? Look at a 12-year-old and can you genuinely imagine abandoning them? The problem was never her partner, it was her. She never put any measures in place to protect you, she never listened to you when you tried to talk to her, and she left you when you looked up to her the most. \n",
      "\n",
      "The actual audacity for her to act like you're being cold is crazy because nothing you've said or done is as cold as what she did. No offence but I still think you're being too forgiving, by the sounds of it you've fallen into the trap of needing her acceptance again, because I would've walked out the moment she tried to act like nothing had happened.\n",
      "[{'sadness': 0.0005382138770073652, 'joy': 0.00035294622648507357, 'love': 0.00032811256824061275, 'anger': 0.9919871091842651, 'fear': 0.006576479412615299, 'surprise': 0.0002171042433474213}]\n",
      "Post: AITAH: for postponing the wedding when my fiance was demanding to be paid back the money he paid for his late wife's surgery? \n",
      "I F have been with my fiance M (Jake) for over a year. His late wife died from illness. We were supposed to be in the middle of wedding planning but something came up and I had to postpone as a response.\n",
      "\n",
      "\n",
      "Jake told me he gave people money and that once they paid him back, we'll go on a honeymoon. So I understood why he needed the money. It turns out the people who owed him were his ex inlaws, the money was for his late wife's surgery. I was stunned. I overheard him argue with one of the ex inlaws and he (ex father in law) was telling Jake that he shouldn't expect the money that he willingly spent on his late wife's surgery back. Jake went on about how much he helped already and that he wanted the money back. \n",
      "\n",
      "I was shocked. I tried to speak to him about it snd he got defensive. I flat-out told him he had no right to demand the money he paid for his late wife's surgery back, and that it was disrespectful not just to ex inlaws but to her memory. He looked at me shocked and said that I was being judgemental. From what I understand, his late wife was staying at home and took care of the house. I feel like it's unfair that he demands the money back. He got upset and said that of course he had every right and told me to stay out of it. We argued loudly and I ended up telling him I'd postpone the wedding since this is how he's behaving. He stormed out and tried to get his friends involved hopefully \"to talk some sense into me\". I decided to go stay with mom for few days. My mom says I shouldn't have got involved in this matter and escalated to the point that I postpone.\n",
      "\n",
      "I want to know if I'm overstepping here and wether I've made the wrong decision.\n",
      "\n",
      "Edit: typos Nta\n",
      "\n",
      "Why would you marry this dude after seeing this? Oh, no, don't postpone the wedding over something like that!\n",
      "\n",
      "Cancel it.\n",
      "\n",
      "NTA You make valid points and it speaks to his character and your expectations.  NTA NTA. If he has no problem doing this to her family, he would do it to yours. I wouldn't marry someone who is so callous. What kind of husband does that make? What kind of FATHER does that make? He is not a prize by any stretch after that move.  If that’s how he treats marriage vows, why would you take vows with him?  NTA\n",
      "[{'sadness': 0.06081308424472809, 'joy': 0.014826776459813118, 'love': 0.001509497407823801, 'anger': 0.9175687432289124, 'fear': 0.0048530749045312405, 'surprise': 0.000428777071647346}]\n",
      "Post: AITAH for kicking my mom out of my graduation dinner after she brought her husband instead of my dad? I (22F) graduated from college last weekend. My parents divorced when I was 15, and while they’re civil, they’re not friendly. My mom remarried a year after the divorce to the guy she cheated on my dad with, so it’s still a sore subject in our family.\n",
      "\n",
      "I told both parents about my dinner reservation after graduation and made it clear: I wanted BOTH of my parents there, just them. No stepparents. I even said, “It’s one night for the two people who raised me.” My dad understood immediately. My mom nodded, but didn’t say much.\n",
      "\n",
      "Graduation day comes. I walk out of the ceremony and see my dad… and my mom with her husband (the affair guy). I immediately pulled her aside and reminded her of what I asked. She just said, “It’s my husband. I’m not excluding him from a family event.”\n",
      "\n",
      "I told her if she couldn’t respect my one request, she couldn’t come to dinner. She tried to guilt me. said he drove her, said they already booked a hotel but I stood firm. She left crying. My dad was quiet the whole time, and dinner ended up awkward and tense. Now my mom is telling family I humiliated her on my day. Some people think I overreacted and that I should’ve just \"dealt with it for one night.”\n",
      "\n",
      "AITAH for kicking my mom out for bringing her husband?. NTA. \"It’s one night for the two people who raised me.” is crystal clear.  NTA. You gave your firm boundary and she violated that. \n",
      "\n",
      "What could've happened here is that the Stepfather can just drop her off then go somewhere else on his own for supper and entertainment. \n",
      "\n",
      "I also read that you never said that the ceremony was just for your parents too. So that ceremony was never part of the request since you never specified it. But dinner? Nah. You made a request and your father agreed. Your mother was just hoping you'll cave in since stepfather's there now too but you didn't. NTA\n",
      "\n",
      "\n",
      "My mom is also married to her AP and I plan to make the same request for my wedding. Your dad deserves to enjoy watching HIS daughter graduate without feeling uncomfortable and being reminded that your mom is a selfish wench. It’s easy for extended family to say, you overreacted, when they weren’t the ones watching their mom rebuild life with the man who blew up the family. They're not the ones who asked for one small thing and got steamrolled. “It’s my husband. I’m not excluding him from a family event.”\n",
      "\n",
      "I always find it rich when cheaters say something like this. Like you won't eat dinner without your husband, but you were willing to cheat on one.\n",
      "[{'sadness': 0.005307130515575409, 'joy': 0.9673061966896057, 'love': 0.010321957059204578, 'anger': 0.015689583495259285, 'fear': 0.0010019780602306128, 'surprise': 0.0003732143377419561}]\n"
     ]
    }
   ],
   "source": [
    "texts = []\n",
    "for post in posts:\n",
    "    text = post[\"title\"] + \" \" + (post[\"text\"] or \"\")\n",
    "    for comment in post[\"comments\"]:\n",
    "        text += \" \" + comment[\"body\"]\n",
    "    print(  f\"Post: {text}\")\n",
    "    print(run_batch_inference([text]))\n",
    "    texts.append(text)\n"
   ]
  },
  {
   "cell_type": "code",
   "execution_count": 10,
   "id": "5ac35e15",
   "metadata": {},
   "outputs": [
    {
     "name": "stdout",
     "output_type": "stream",
     "text": [
      "results: [{'sadness': 0.05724615231156349, 'joy': 0.48117128014564514, 'love': 0.014398619532585144, 'anger': 0.27983638644218445, 'fear': 0.15719150006771088, 'surprise': 0.010156083852052689}, {'sadness': 0.0018915304681286216, 'joy': 0.004828240256756544, 'love': 0.0007443905924446881, 'anger': 0.9888409972190857, 'fear': 0.003400283632799983, 'surprise': 0.0002944710140582174}, {'sadness': 0.126068577170372, 'joy': 0.24193672835826874, 'love': 0.0032752440311014652, 'anger': 0.6107820868492126, 'fear': 0.015659986063838005, 'surprise': 0.002277401043102145}, {'sadness': 0.9744206666946411, 'joy': 0.0011943706776946783, 'love': 0.000621794315520674, 'anger': 0.006209913641214371, 'fear': 0.017270173877477646, 'surprise': 0.0002830728190019727}, {'sadness': 0.2812051773071289, 'joy': 0.09164117276668549, 'love': 0.0033936104737222195, 'anger': 0.6094412207603455, 'fear': 0.012739568017423153, 'surprise': 0.0015793151687830687}]\n"
     ]
    }
   ],
   "source": [
    "results = run_batch_inference(texts)\n",
    "print(\"results:\", results)"
   ]
  },
  {
   "cell_type": "code",
   "execution_count": null,
   "id": "76a4089c",
   "metadata": {},
   "outputs": [],
   "source": []
  },
  {
   "cell_type": "markdown",
   "id": "aa72ec1b",
   "metadata": {},
   "source": [
    "# test firestore:"
   ]
  },
  {
   "cell_type": "code",
   "execution_count": 9,
   "id": "bc8cdfe2",
   "metadata": {},
   "outputs": [
    {
     "data": {
      "text/plain": [
       "True"
      ]
     },
     "execution_count": 9,
     "metadata": {},
     "output_type": "execute_result"
    }
   ],
   "source": [
    "import os\n",
    "\n",
    "from dotenv import load_dotenv\n",
    "\n",
    "load_dotenv()"
   ]
  },
  {
   "cell_type": "code",
   "execution_count": 13,
   "id": "8f050421",
   "metadata": {},
   "outputs": [
    {
     "name": "stdout",
     "output_type": "stream",
     "text": [
      "✅ Saved to sentiment_history/2025-06-25T23\n"
     ]
    }
   ],
   "source": [
    "from google.cloud import firestore\n",
    "from datetime import datetime\n",
    "\n",
    "# Initialize Firestore client\n",
    "db = firestore.Client(database=os.getenv(\"FIRESTORE_DATABASE_ID\"))\n",
    "\n",
    "# Sample test data\n",
    "test_data = {\n",
    "    \"joy\": 0.75,\n",
    "    \"anger\": 0.05,\n",
    "    \"sadness\": 0.1,\n",
    "    \"fear\": 0.03,\n",
    "    \"love\": 0.05,\n",
    "    \"surprise\": 0.02,\n",
    "    \"timestamp\": datetime.now().isoformat(),\n",
    "    \"updatedAt\": firestore.SERVER_TIMESTAMP\n",
    "}\n",
    "\n",
    "# Write to sentiment_history collection (timestamped doc)\n",
    "hour_key = datetime.now().strftime('%Y-%m-%dT%H')\n",
    "doc_ref = db.collection(\"sentiment_history\").document(hour_key)\n",
    "doc_ref.set(test_data)\n",
    "\n",
    "print(f\"✅ Saved to sentiment_history/{hour_key}\")\n"
   ]
  },
  {
   "cell_type": "markdown",
   "id": "fa0fad58",
   "metadata": {},
   "source": [
    "# test firestore.py"
   ]
  },
  {
   "cell_type": "code",
   "execution_count": 2,
   "id": "71f85599",
   "metadata": {},
   "outputs": [
    {
     "name": "stdout",
     "output_type": "stream",
     "text": [
      "✅ Saved sentiment snapshot to Firestore.\n"
     ]
    }
   ],
   "source": [
    "from app.storage.firestore import save_sentiment_summary\n",
    "from datetime import datetime\n",
    "\n",
    "test_data = {\n",
    "    \"joy\": 0.65,\n",
    "    \"anger\": 0.15,\n",
    "    \"sadness\": 0.1,\n",
    "    \"fear\": 0.03,\n",
    "    \"love\": 0.05,\n",
    "    \"surprise\": 0.02,\n",
    "}\n",
    "save_sentiment_summary(test_data)"
   ]
  },
  {
   "cell_type": "markdown",
   "id": "f1bacd8a",
   "metadata": {},
   "source": [
    "# test firestore.py and inference.py and reddit.py"
   ]
  },
  {
   "cell_type": "code",
   "execution_count": 1,
   "id": "daf7cc38",
   "metadata": {},
   "outputs": [
    {
     "name": "stdout",
     "output_type": "stream",
     "text": [
      "Logged in as Fabulous_Cherry2510\n"
     ]
    },
    {
     "name": "stderr",
     "output_type": "stream",
     "text": [
      "Device set to use cuda:0\n"
     ]
    }
   ],
   "source": [
    "from dotenv import load_dotenv\n",
    "load_dotenv()\n",
    "\n",
    "from app.reddit.fetch import fetch_subreddit_posts, fetch_all_subreddit_posts_by_dict\n",
    "from app.ml.inference import run_batch_inference\n",
    "from app.storage.firestore import save_sentiment_summary\n",
    "from app.processing.aggregate import compute_sentiment_average"
   ]
  },
  {
   "cell_type": "code",
   "execution_count": 2,
   "id": "51ff58d0",
   "metadata": {},
   "outputs": [
    {
     "name": "stdout",
     "output_type": "stream",
     "text": [
      "Processing submission: 1lkzl73 - ICE arrested a 6-year-old boy with leukemia at immigration court. His family is suing.\n",
      "Processing submission: 1lkzbjy - College graduates face toughest job market in more than a decade as hiring slows\n",
      "Processing submission: 1lkzz0z - US economy shrank 0.5% between January and March, worse than 2 earlier estimates had revealed\n",
      "Processing submission: 1ll4pek - Critical hurricane forecast tool abruptly terminated\n",
      "Processing submission: 1lkxkao - Man who killed London schoolboy with samurai sword is convicted of murder\n",
      "Fetched 5 posts from news in category News & Politics\n",
      "Processing submission: 1lkqi89 - /r/WorldNews Live Thread: Russian Invasion of Ukraine Day 1218, Part 1 (Thread #1365)\n",
      "Processing submission: 1lkxucx - Cocaine use and production hits record high\n",
      "Processing submission: 1lktdyc - Explosions Rock Moscow as 50 Drones Target Russian Regions, Vnukovo Flights Diverted\n",
      "Processing submission: 1ll2ljj - Indian court rules trans women are women and ‘legally entitled to recognition’\n",
      "Processing submission: 1lkul5k - Trump's surprising exchange with Ukrainian reporter: 'Very upsetting'\n",
      "Fetched 5 posts from worldnews in category News & Politics\n",
      "Processing submission: 1ll0joi - Discussion Thread: Supreme Court Opinions for Thursday, June 26, 2025 - 10:00 AM EDT\n",
      "Processing submission: 1lkzc9y - The US economy shrank much faster in the first quarter than previously reported\n",
      "Processing submission: 1ll1vt1 - Melania Trump's visa questioned in congressional hearing\n",
      "Processing submission: 1lkxbci - Mamdani Did All the Things the Establishment Hates. He Won Anyway.\n",
      "Processing submission: 1ll1y5n - Melania ‘Einstein’ Trump Ridiculed at Fiery House Hearing\n",
      "Fetched 5 posts from politics in category News & Politics\n",
      "Completed fetching category: News & Politics with 3 subreddits.\n",
      "{'News & Politics': [{'name': 'news', 'posts': [{'id': '1lkzl73', 'title': 'ICE arrested a 6-year-old boy with leukemia at immigration court. His family is suing.', 'text': '', 'url': 'https://www.tpr.org/border-immigration/2025-06-25/ice-arrested-a-6-year-old-boy-with-leukemia-at-immigration-court-his-family-is-suing', 'score': 41085, 'num_comments': 1944, 'created_utc': 1750942977.0, 'created': '2025-06-26T13:02:57', 'comments': [{'body': '*”They were crying in fear. One of the agents at one point lifted up his shirt, which displayed the gun that he was carrying,\" Mukherjee said. \"The 6-year-old boy was terrified to see the gun. He urinated on himself and wet all his clothing. No one offered him a change of clothing for many hours.\"*\\n\\nTreating children like animals. Dignity for fellow humans has been lost, when it is gone for them it is gone for everyone. There is always another groups to find and mistreat after the thugs have finished with their current targets.', 'author': 'CypripediumGuttatum', 'score': 12534}, {'body': 'How are the officers not completely ashamed and embarrassed by this. I guess I understand some people have literally zero empathy but it’s hard to wrap my head around', 'author': 'my_konstantine_', 'score': 6143}]}, {'id': '1lkzbjy', 'title': 'College graduates face toughest job market in more than a decade as hiring slows', 'text': '', 'url': 'https://apnews.com/article/college-graduates-job-market-unemployment-c5e881d0a5c069de08085a47fa58f90f', 'score': 3044, 'num_comments': 302, 'created_utc': 1750942224.0, 'created': '2025-06-26T12:50:24', 'comments': [{'body': \"As someone who graduated in 2008 I sincerely wish them good luck... they're going to need it.\", 'author': 'UrielVentris6113', 'score': 1475}, {'body': \"CS grads out here getting steamrolled and people still acting shocked like this hasn’t been the playbook for decades. Tech’s always been boom and bust, just now they’ve hit ctrl+alt+layoff a bit harder. They flood the market, drop wages, and somehow you're the problem for not having “senior-level experience” two weeks outta college.\\n\\nJr devs? Good luck competing with 10,000 freshly laid-off mid-levels all applying for the same role that pays in exposure...\\n\\nBut hey, at least we got “tough and competitive” instead of “completely broken and soul-draining.” Glass half full, right?\", 'author': 'Locomotion90', 'score': 557}]}, {'id': '1lkzz0z', 'title': 'US economy shrank 0.5% between January and March, worse than 2 earlier estimates had revealed', 'text': '', 'url': 'https://apnews.com/article/economy-tariffs-trump-gdp-shrink-86d1f15e66c646ac4ce88ffc0a956942', 'score': 2280, 'num_comments': 127, 'created_utc': 1750944020.0, 'created': '2025-06-26T13:20:20', 'comments': [{'body': 'If Trump were president, this never would have happened.', 'author': 'neologismist_', 'score': 749}, {'body': '\"Just you wait, once rich people get more tax cuts the economy is gonna boost into overdrive! Its coming soon!\"', 'author': 'Theduckisback', 'score': 299}]}, {'id': '1ll4pek', 'title': 'Critical hurricane forecast tool abruptly terminated', 'text': '', 'url': 'https://www.local10.com/weather/hurricane/2025/06/26/critical-hurricane-forecast-tool-abruptly-terminated/', 'score': 958, 'num_comments': 168, 'created_utc': 1750955543.0, 'created': '2025-06-26T16:32:23', 'comments': [{'body': 'That\\'ll go over well in the midterms.\\n\\n\\n\"Sorry All Of The South, we were too busy paying ICE to disappear your neighbors to not have your grandma\\'s house fall flat on her head from storm winds we would\\'ve seen coming only a few years ago.\"', 'author': 'tyuiopguyt', 'score': 1}, {'body': \"This is insane! I mean, who do they think they are? Just taking away our weather data like that? It's not like we're asking for the moon here. We just want to know if a damn hurricane is coming or not. And don't even get me started on how this is going to screw over the coastal towns. They're just going to be left in the dark, and god forbid something happens, they'll be scrambling with no useful data whatsoever. I mean, what are we supposed to do? Hope for the best? That's not how you keep people safe!\", 'author': 'Tremenda-Carucha', 'score': 1}]}, {'id': '1lkxkao', 'title': 'Man who killed London schoolboy with samurai sword is convicted of murder', 'text': '', 'url': 'https://abcnews.go.com/International/wireStory/attacker-killed-london-schoolboy-samurai-sword-convicted-murder-123194021', 'score': 2381, 'num_comments': 233, 'created_utc': 1750936779.0, 'created': '2025-06-26T11:19:39', 'comments': [{'body': '“Prosecutors said Monzo’s social media use showed an interest in violence, far-right extremism and conspiracy theories. He had shared vaccine misinformation and liked posts on X praising Adolf Hitler.”\\n\\nOf course.', 'author': 'Robert_Cutty', 'score': 725}, {'body': 'Psychotic episodes are real and so are the consequences.\\n\\nMental health is important. Compliance with medications, while uncomfortable for some , can be lifesaving...for the person, and others.\\n\\nMany lives have been changed forever. My heart goes out to the families affected.', 'author': 'merrittj3', 'score': 291}]}]}, {'name': 'worldnews', 'posts': [{'id': '1lkqi89', 'title': '/r/WorldNews Live Thread: Russian Invasion of Ukraine Day 1218, Part 1 (Thread #1365)', 'text': '', 'url': 'https://www.reddit.com/live/18hnzysb1elcs', 'score': 520, 'num_comments': 29, 'created_utc': 1750910546.0, 'created': '2025-06-26T04:02:26', 'comments': [{'body': '* approximately 1,015,750\\xa0**(+1,100)**\\xa0military personnel;\\n* 10,968\\xa0**(+1)**\\xa0tanks;\\n* 22,892\\xa0**(+7)**\\xa0armoured combat vehicles;\\n* 29,617\\xa0**(+48)**\\xa0artillery systems;\\n* 1,425 (+0) multiple-launch rocket systems;\\n* 1,188 (+0) air defence systems;\\n* 416 (+0) fixed-wing aircraft;\\n* 337 (+0) helicopters;\\n* 42,153\\xa0**(+107)**\\xa0operational-tactical UAVs;\\n* 3,388 (+0) cruise missiles;\\n* 28 (+0) ships/boats;\\n* 1 (+0) submarine;\\n* 53,195\\xa0**(+111)**\\xa0vehicles and fuel tankers;\\n* 3,921\\xa0**(+1)**\\xa0special vehicles and other equipment.', 'author': 'grimmalkin', 'score': 74}, {'body': 'Shaheds 2.0: Russia’s drone tactics get a dangerous upgrade\\n\\n[https://ukrainianweek.com/russian-shaheds/](https://ukrainianweek.com/russian-shaheds/)', 'author': 'ReadToW', 'score': 28}]}, {'id': '1lkxucx', 'title': 'Cocaine use and production hits record high', 'text': '', 'url': 'https://www.rte.ie/news/world/2025/0626/1520402-cocaine-un-report/', 'score': 9607, 'num_comments': 1699, 'created_utc': 1750937737.0, 'created': '2025-06-26T11:35:37', 'comments': [{'body': \"Users often report submissions from this site for sensationalized articles. Readers have a responsibility to be skeptical, check sources, and comment on any flaws.\\n\\nYou can help improve this thread by linking to media that verifies or questions this article's claims. Your link could help readers better understand this issue.\\n\\n*I am a bot, and this action was performed automatically. Please [contact the moderators of this subreddit](/message/compose/?to=/r/worldnews) if you have any questions or concerns.*\", 'author': 'AutoModerator', 'score': 1}, {'body': 'over 4x the cocaine use of a decade ago is insane!', 'author': 'loitermaster', 'score': 3719}]}, {'id': '1lktdyc', 'title': 'Explosions Rock Moscow as 50 Drones Target Russian Regions, Vnukovo Flights Diverted', 'text': '', 'url': 'https://www.kyivpost.com/post/55212', 'score': 12987, 'num_comments': 232, 'created_utc': 1750920818.0, 'created': '2025-06-26T06:53:38', 'comments': [{'body': 'Putins fault', 'author': 'Effective-Growth2602', 'score': 1259}, {'body': \"There's a new Ukrainian Drone Boss  on the field. And he ain't the same as the old Ukrainian drone boss.\", 'author': 'OldSaltSailor99', 'score': 1459}]}, {'id': '1ll2ljj', 'title': 'Indian court rules trans women are women and ‘legally entitled to recognition’', 'text': '', 'url': 'https://www.thepinknews.com/2025/06/26/india-trans-women-high-court-decision/', 'score': 1955, 'num_comments': 119, 'created_utc': 1750950601.0, 'created': '2025-06-26T15:10:01', 'comments': [{'body': 'Reading deeper into the article... it says this was petitioned because a trans woman wanted protection from abuse, but in Indian law that only applied to biological women - so that means men in India have no protection from abuse?', 'author': 'DontBelieveTheirHype', 'score': 286}, {'body': ' it seems indians are more favorable to the trans community compared to the rest of the LGBTQIA+ community, most probably due to the historical context', 'author': 'Own_Neighborhood_839', 'score': 119}]}, {'id': '1lkul5k', 'title': \"Trump's surprising exchange with Ukrainian reporter: 'Very upsetting'\", 'text': '', 'url': 'https://www.9news.com.au/world/donald-trump-ukraine-journalist-nato-press-conference-video/a72c63c4-ee3c-4ec9-a447-468510314b4a', 'score': 4626, 'num_comments': 237, 'created_utc': 1750925571.0, 'created': '2025-06-26T08:12:51', 'comments': [{'body': \"At the NATO summit, Trump had a surprisingly empathetic exchange with a Ukrainian reporter, acknowledging her husband's military service and saying the U.S. may send more Patriot systems to Ukraine. He called it a “very good question” and wished her luck.\", 'author': 'Emmanuel_BDRSuite', 'score': 2635}, {'body': 'What in the fuck was that backing music', 'author': '80ninevision', 'score': 47}]}]}, {'name': 'politics', 'posts': [{'id': '1ll0joi', 'title': 'Discussion Thread: Supreme Court Opinions for Thursday, June 26, 2025 - 10:00 AM EDT', 'text': 'Welcome to the Discussion Thread for the Supreme Court’s June 26th, 2025 opinions/rulings.\\n\\nOpinion(s) for cases from the October 2024 Term will be released beginning at 10:00 EDT. If more than one opinion is released, there will be a 5-10 minute pause between each.\\n\\nFrequently Asked Questions:\\n\\n* How many cases remain from the October 2024 Term?\\n   * We expect roughly 10 more opinions (as of the writing of this post).\\n* How many opinions will be released today?\\n   * At least one. Traditionally, the Supreme Court finishes their term by June 30th - so the odds of releasing multiple opinions today is high.\\n* Is there a livestream?\\n   * No, though the Supreme Court Press Corps did recently request that Chief Justice Roberts authorize livestreams of opinions.\\n* Where can I see the list of remaining cases for this term?\\n   * [Wikipedia](https://en.wikipedia.org/wiki/List_of_pending_United_States_Supreme_Court_cases) has a list, as does [Oyez](https://www.oyez.org/cases/2024).\\n* Where can I see the full opinion(s)?\\n   * Opinions will be posted to [the Supreme Court’s website](https://www.supremecourt.gov/opinions/slipopinion/24) beginning at 10:00 EDT.', 'url': 'https://www.reddit.com/r/politics/comments/1ll0joi/discussion_thread_supreme_court_opinions_for/', 'score': 23, 'num_comments': 17, 'created_utc': 1750945543.0, 'created': '2025-06-26T13:45:43', 'comments': [{'body': \"Hi everyone! Sorry for missing the last couple of opinions days - I was away on travel and not near my computer. \\n\\nAs mentioned in the body-text of the thread, we have ~10 opinions left for this term, including (but not limited to): \\n\\n* Whether or not individual states/districts can block Trump's deportation policies (Trump v. Casa).\\n\\n* Whether or not South Carolina can ~~close Planned Parenthood locations~~ restrict Medicaid funding from being used at Planned Parenthood without violating Medicare policies (Medina v. Planned Parenthood South Atlantic) .\\n\\n* Whether parents can 'opt-out' their children from school lessons they find objectionable on religious grounds (Mahmoud v. Taylor).\\n \\n* Whether or not the ACA requires employers to cover access to HIV/HPV medications (Kennedy v. Braidwood Management, Inc.).\\n\\nThere are many many many technical aspects and nuances to these cases, and the rulings may be narrow in terms of what they restrict/require or they may kick a case back down to a lower court to be re-heard. \\n\\nAs was true last time, I will post brief summaries of the opinions as they get released, but please stay tuned to some known journalists and analysts for in-depth breakdowns of the day's opinions.\", 'author': 'TheUnknownStitcher', 'score': 1}, {'body': '**OPINIONS FOR JUNE 26TH**\\n\\n [Hewitt v. US](https://www.supremecourt.gov/opinions/24pdf/23-1002_1p24.pdf) \\n\\n- Whether the First Step Act\\'s sentencing reduction provisions apply to a defendant originally sentenced before the FSA\\'s enactment when that original sentence is judicially vacated and the defendant is resentenced to a new term of imprisonment after the FSA\\'s enactment.\\n\\n- Explainer: If someone gets a \\'stacked\\' sentence, then the policy that allowed for sentence \\'stacking\\' is done away with, and the person gets re-sentenced, does the new sentence need to be \\'stacked\\'? (Wonky wording, but you get the idea). \\n\\nJustice Jackson with a 5-4 decision (Jackson, Roberts, Sotomayor, Kagan and Gorsuch). Alito dissenting, with Thomas, Kavanaugh, and Barrett joining. \\n\\n- The lower court erred in their ruling that the charges/sentences could be stacked. \\n\\n---\\n[Medina v. Planned Parenthood South Atlantic](https://www.supremecourt.gov/opinions/24pdf/23-1275_e2pg.pdf)\\n\\n* Whether the Medicaid Act\\'s any-qualified-provider provision unambiguously confers a private right upon a Medicaid beneficiary to choose a specific provider.\\n\\n* Explainer: If a state ~~closes Planned Parenthood clinics~~ restricts Medicaid funds from being used at Planned Parenthood, does that violate the private ability of a Medicaid recipient to choose their provider.\\n\\nJustice Gorsuch with a 6-3 decision (Gorsuch, Roberts, Thomas, Alito, Kavanaugh, Barrett). Jackson dissenting, with Sotomayor and Kagan joining. \\n\\n* Says the issue is Congressional, not for the courts - says that private individuals do not have the required level of \\'standing\\' to argue against the closure(s).\\n\\n---\\n[Gutierriez v. Saenz](https://www.supremecourt.gov/opinions/24pdf/23-7809_3e04.pdf) \\n\\n* Does Article III standing require a particularized determination of whether a specific state official will redress the plaintiff\\'s injury by following a favorable declaratory judgment?\\n\\n* Explainer: Can a Texas inmate sue the state for not allowing a DNA test as part of an appeals process (the test was denied because the evidence would likely have no impact on the sentencing)?\\n\\nJustice Sotomayor with a 6-3 opinion (Sotomayor, Roberts, Kagan, Kavanaugh, Jackson, and Barrett (in part)). Alito dissenting, joined by Thomas and Gorsuch.\\n\\n* Says the inmate has a right to have the testing, despite the likely impact on sentencing.\\n\\n--- \\n[Riley v. Bondi](https://www.supremecourt.gov/opinions/24pdf/23-1270_6j37.pdf)\\n\\n* (1) Whether the 30-day deadline in 8 U.S.C. 1252(b)(1) for filing a petition for review of an order of removal is jurisdictional; and\\n(2) whether a noncitizen satisfies the deadline in Section 1252(b)(1) by filing a petition for review challenging an agency order denying withholding of removal or protection under the Convention Against Torture within 30 days of the issuance of that order.\\n\\n* Explainer: This is a technical case about the timing and logistics of appeals/holds on immigration removals. \\n\\nSplintered ruling. From the SCOTUS opinion: \\n> ALITO , J., delivered the opinion of the Court, in which ROBERTS , C. J.,\\nTHOMAS , K AVANAUGH, and BARRETT , JJ., joined in full, and in which\\nSOTOMAYOR, KAGAN, G ORSUCH, and JACKSON, JJ., joined only as to Part\\nII–B. T HOMAS , J., filed a concurring opinion. SOTOMAYOR, J., filed an\\nopinion dissenting in part, in which KAGAN and JACKSON, JJ., joined in\\nfull, and in which G ORSUCH, J., joined except as to Part IV.\\n\\n* \"Section 1252’s 30-day filing rule is not jurisdictional, but because the Government does not wish to press that ground for dismissal the Court’s holding does not preclude this case from proceeding on remand.\\n\\n---\\n\\nThat\\'s all for today. ~6 cases remaining, all will be released tomorrow.', 'author': 'TheUnknownStitcher', 'score': 1}]}, {'id': '1lkzc9y', 'title': 'The US economy shrank much faster in the first quarter than previously reported', 'text': '', 'url': 'https://www.cnn.com/2025/06/26/economy/us-gdp-q1-final', 'score': 19683, 'num_comments': 994, 'created_utc': 1750942280.0, 'created': '2025-06-26T12:51:20', 'comments': [{'body': \"\\nAs a reminder, this subreddit [is for civil discussion.](/r/politics/wiki/index#wiki_be_civil)\\n\\nIn general, be courteous to others. Debate/discuss/argue the merits of ideas, don't attack people. Personal insults, shill or troll accusations, hate speech, any suggestion or support of harm, violence, or death, and other rule violations can result in a permanent ban. \\n\\nIf you see comments in violation of our rules, please report them.\\n\\n For those who have questions regarding any media outlets being posted on this subreddit, please click [here](https://www.reddit.com/r/politics/wiki/approveddomainslist) to review our details as to our approved domains list and outlet criteria.\\n \\n We are actively looking for new moderators.  If you have any interest in helping to make this subreddit a place for quality discussion, please fill out [this form](https://docs.google.com/forms/d/1y2swHD0KXFhStGFjW6k54r9iuMjzcFqDIVwuvdLBjSA).\\n \\n\\n***\\n\\n\\n*I am a bot, and this action was performed automatically. Please [contact the moderators of this subreddit](/message/compose/?to=/r/politics) if you have any questions or concerns.*\", 'author': 'AutoModerator', 'score': 1}, {'body': 'Anyone who works in manufacturing knows this.\\xa0\\n\\nI lost my job back in April because of the tariffs. It was no shock because business just about halted the moment Trump took office.\\xa0\\n\\nWe’re coming up on 6 months. By October, I think it’s only going to look worse.\\xa0', 'author': 'hillbillyspellingbee', 'score': 1}]}, {'id': '1ll1vt1', 'title': \"Melania Trump's visa questioned in congressional hearing\", 'text': '', 'url': 'https://www.newsweek.com/melania-trump-einstein-visa-questioned-jasmine-crockett-2090901', 'score': 9287, 'num_comments': 326, 'created_utc': 1750948903.0, 'created': '2025-06-26T14:41:43', 'comments': [{'body': \"\\nAs a reminder, this subreddit [is for civil discussion.](/r/politics/wiki/index#wiki_be_civil)\\n\\nIn general, be courteous to others. Debate/discuss/argue the merits of ideas, don't attack people. Personal insults, shill or troll accusations, hate speech, any suggestion or support of harm, violence, or death, and other rule violations can result in a permanent ban. \\n\\nIf you see comments in violation of our rules, please report them.\\n\\n For those who have questions regarding any media outlets being posted on this subreddit, please click [here](https://www.reddit.com/r/politics/wiki/approveddomainslist) to review our details as to our approved domains list and outlet criteria.\\n \\n We are actively looking for new moderators.  If you have any interest in helping to make this subreddit a place for quality discussion, please fill out [this form](https://docs.google.com/forms/d/1y2swHD0KXFhStGFjW6k54r9iuMjzcFqDIVwuvdLBjSA).\\n \\n\\n***\\n\\n\\n*I am a bot, and this action was performed automatically. Please [contact the moderators of this subreddit](/message/compose/?to=/r/politics) if you have any questions or concerns.*\", 'author': 'AutoModerator', 'score': 1}, {'body': '>“They said my wife, Melania, might have come in illegally. Can you believe that one? Let me tell you one thing. She has got it so documented, **so she’s going to have a little news conference over the next couple of weeks**. That’s good. I love it. I love it.” ~ Donald Trump, August 9, 2016\\n\\nNote: She did not have a news conference. These questions were never answered.', 'author': 'Just_the_nicest_guy', 'score': 1}]}, {'id': '1lkxbci', 'title': 'Mamdani Did All the Things the Establishment Hates. He Won Anyway.', 'text': '', 'url': 'https://newrepublic.com/article/197247/mamdani-versus-establishment-democrats-cuomo', 'score': 7855, 'num_comments': 411, 'created_utc': 1750935938.0, 'created': '2025-06-26T11:05:38', 'comments': [{'body': \"\\nAs a reminder, this subreddit [is for civil discussion.](/r/politics/wiki/index#wiki_be_civil)\\n\\nIn general, be courteous to others. Debate/discuss/argue the merits of ideas, don't attack people. Personal insults, shill or troll accusations, hate speech, any suggestion or support of harm, violence, or death, and other rule violations can result in a permanent ban. \\n\\nIf you see comments in violation of our rules, please report them.\\n\\n For those who have questions regarding any media outlets being posted on this subreddit, please click [here](https://www.reddit.com/r/politics/wiki/approveddomainslist) to review our details as to our approved domains list and outlet criteria.\\n \\n We are actively looking for new moderators.  If you have any interest in helping to make this subreddit a place for quality discussion, please fill out [this form](https://docs.google.com/forms/d/1y2swHD0KXFhStGFjW6k54r9iuMjzcFqDIVwuvdLBjSA).\\n \\n\\n***\\n\\n\\n*I am a bot, and this action was performed automatically. Please [contact the moderators of this subreddit](/message/compose/?to=/r/politics) if you have any questions or concerns.*\", 'author': 'AutoModerator', 'score': 1}, {'body': 'Establishment hates authenticity because it can’t be controlled. Props to Mamdani for standing firm', 'author': 'Vegetable_Lime_8188', 'score': 1}]}, {'id': '1ll1y5n', 'title': 'Melania ‘Einstein’ Trump Ridiculed at Fiery House Hearing', 'text': '', 'url': 'https://www.thedailybeast.com/melania-trump-mercilessly-ridiculed-at-fiery-house-hearing/', 'score': 2882, 'num_comments': 189, 'created_utc': 1750949062.0, 'created': '2025-06-26T14:44:22', 'comments': [{'body': \"\\nAs a reminder, this subreddit [is for civil discussion.](/r/politics/wiki/index#wiki_be_civil)\\n\\nIn general, be courteous to others. Debate/discuss/argue the merits of ideas, don't attack people. Personal insults, shill or troll accusations, hate speech, any suggestion or support of harm, violence, or death, and other rule violations can result in a permanent ban. \\n\\nIf you see comments in violation of our rules, please report them.\\n\\n For those who have questions regarding any media outlets being posted on this subreddit, please click [here](https://www.reddit.com/r/politics/wiki/approveddomainslist) to review our details as to our approved domains list and outlet criteria.\\n \\n We are actively looking for new moderators.  If you have any interest in helping to make this subreddit a place for quality discussion, please fill out [this form](https://docs.google.com/forms/d/1y2swHD0KXFhStGFjW6k54r9iuMjzcFqDIVwuvdLBjSA).\\n \\n\\n***\\n\\n\\n*I am a bot, and this action was performed automatically. Please [contact the moderators of this subreddit](/message/compose/?to=/r/politics) if you have any questions or concerns.*\", 'author': 'AutoModerator', 'score': 1}, {'body': '“Melania, the first lady, a model–and when I say model I’m not talking about Tyra Banks, Cindy Crawford or Naomi Campbell-level–applied for and was given an EB1, the Einstein visa. It doesn’t take an Einstein to see that the math ain’t mathin’ here.”', 'author': 'Boonzies', 'score': 1}]}]}]}\n"
     ]
    }
   ],
   "source": [
    "test_subs = {\n",
    "  \"News & Politics\": [\n",
    "    \"news\", \"worldnews\", \"politics\"\n",
    "  ]\n",
    "}\n",
    "\n",
    "results = fetch_all_subreddit_posts_by_dict(\n",
    "    test_subs,\n",
    "    posts_per_subreddit=5,\n",
    "    comment_per_post=2)\n",
    "\n",
    "print(results)\n"
   ]
  },
  {
   "cell_type": "code",
   "execution_count": 6,
   "id": "b77dc563",
   "metadata": {},
   "outputs": [
    {
     "name": "stdout",
     "output_type": "stream",
     "text": [
      "Running inference for subreddit: news with 5 posts\n",
      "[{'fear': 0.9904718399047852, 'anger': 0.0055731842294335365, 'sadness': 0.0028303461149334908, 'joy': 0.0004994028713554144, 'surprise': 0.00044398033060133457, 'love': 0.00018132974219042808}, {'surprise': 0.9906880855560303, 'fear': 0.003578940872102976, 'joy': 0.0029236769769340754, 'sadness': 0.0011165202595293522, 'love': 0.0009013584349304438, 'anger': 0.000791358994320035}, {'joy': 0.9051741361618042, 'sadness': 0.04768359288573265, 'anger': 0.038989465683698654, 'fear': 0.0038983437698334455, 'love': 0.0024546014610677958, 'surprise': 0.001799727906472981}, {'anger': 0.8802027702331543, 'fear': 0.10501456260681152, 'sadness': 0.008181724697351456, 'joy': 0.004429323598742485, 'surprise': 0.0017169169150292873, 'love': 0.00045459120883606374}, {'love': 0.7317546010017395, 'anger': 0.14237374067306519, 'fear': 0.05145767703652382, 'sadness': 0.04027293622493744, 'joy': 0.0274996105581522, 'surprise': 0.006641405168920755}]\n",
      "Sentiment for news: {'fear': 0.23088427283801138, 'anger': 0.21358610396273434, 'sadness': 0.020017024036496876, 'joy': 0.18810523003339769, 'surprise': 0.20025802317541092, 'love': 0.14714929636975285}\n",
      "Running inference for subreddit: worldnews with 5 posts\n",
      "[{'joy': 0.4751936197280884, 'anger': 0.29040130972862244, 'fear': 0.15122535824775696, 'sadness': 0.0593138262629509, 'love': 0.014010426588356495, 'surprise': 0.009855397045612335}, {'fear': 0.9888829588890076, 'anger': 0.005289749708026648, 'surprise': 0.00394029077142477, 'joy': 0.0011150696082040668, 'sadness': 0.00045550556387752295, 'love': 0.0003163960645906627}, {'anger': 0.9298005104064941, 'fear': 0.035647448152303696, 'sadness': 0.025555014610290527, 'joy': 0.007344434503465891, 'surprise': 0.0009539314778521657, 'love': 0.0006986919906921685}, {'joy': 0.9870225787162781, 'love': 0.010362686589360237, 'anger': 0.001043704804033041, 'sadness': 0.0007847577217034996, 'fear': 0.0005379627109505236, 'surprise': 0.0002483689459040761}, {'joy': 0.9675434827804565, 'love': 0.012466461397707462, 'anger': 0.01122971624135971, 'sadness': 0.003588913008570671, 'fear': 0.002918439218774438, 'surprise': 0.0022528928238898516}]\n",
      "Sentiment for worldnews: {'joy': 0.4876438370672986, 'anger': 0.2475529981777072, 'fear': 0.23584243344375863, 'sadness': 0.017939603433478623, 'love': 0.0075709325261414055, 'surprise': 0.00345017621293664}\n",
      "Running inference for subreddit: politics with 5 posts\n",
      "[{'joy': 0.846858024597168, 'anger': 0.11120633780956268, 'fear': 0.02808971330523491, 'sadness': 0.00936184637248516, 'love': 0.0025446205399930477, 'surprise': 0.0019394876435399055}, {'anger': 0.9807568788528442, 'joy': 0.01047301571816206, 'fear': 0.004244697745889425, 'sadness': 0.0029465442057698965, 'love': 0.0012140790931880474, 'surprise': 0.0003648292913567275}, {'anger': 0.9846999645233154, 'joy': 0.0055908821523189545, 'fear': 0.005466030910611153, 'sadness': 0.003239994402974844, 'love': 0.000683802121784538, 'surprise': 0.00031927955569699407}, {'anger': 0.9814716577529907, 'joy': 0.010394589975476265, 'fear': 0.0038792937994003296, 'sadness': 0.0025168228894472122, 'love': 0.0013725380413234234, 'surprise': 0.00036516989348456264}, {'anger': 0.9945218563079834, 'joy': 0.0019188080914318562, 'sadness': 0.0016114164609462023, 'fear': 0.0012690459843724966, 'love': 0.0004770359373651445, 'surprise': 0.0002019600651692599}]\n",
      "Sentiment for politics: {'joy': 0.17504706410691143, 'anger': 0.8105313390493393, 'fear': 0.008589756349101663, 'sadness': 0.0039353248663246635, 'love': 0.0012584151467308403, 'surprise': 0.0006381452898494899}\n"
     ]
    }
   ],
   "source": [
    "sentiment_by_subreddit = {}\n",
    "for category, subs in results.items():\n",
    "    for sub in subs:\n",
    "        sub_name = sub['name']\n",
    "        posts = []\n",
    "        for post in sub['posts']:\n",
    "            text = post['title'] + \" \" + (post['text'] or \"\")\n",
    "            for comment in post['comments']:\n",
    "                text += \" \" + comment['body']\n",
    "            posts.append(text)\n",
    "        if posts:\n",
    "            print(f\"Running inference for subreddit: {sub_name} with {len(posts)} posts\")\n",
    "            sentiment_results = run_batch_inference(posts)\n",
    "            # average the results for this subreddit\n",
    "            print(sentiment_results)\n",
    "            avg_result = compute_sentiment_average(sentiment_results)\n",
    "            sentiment_by_subreddit[sub_name] = avg_result\n",
    "            print(f\"Sentiment for {sub_name}: {avg_result}\")\n"
   ]
  },
  {
   "cell_type": "code",
   "execution_count": 7,
   "id": "3f966c79",
   "metadata": {},
   "outputs": [
    {
     "name": "stdout",
     "output_type": "stream",
     "text": [
      "Overall sentiment: {'fear': 0.15843882087695724, 'anger': 0.4238901470632603, 'sadness': 0.013963984112100052, 'joy': 0.28359871040253587, 'surprise': 0.06811544822606568, 'love': 0.0519928813475417}\n"
     ]
    }
   ],
   "source": [
    "# average for all subreddits\n",
    "overall_avg = {}\n",
    "for sub, sentiment in sentiment_by_subreddit.items():\n",
    "    for label, score in sentiment.items():\n",
    "        overall_avg[label] = overall_avg.get(label, 0) + score\n",
    "# Normalize by the number of subreddits\n",
    "for label in overall_avg:\n",
    "    overall_avg[label] /= len(sentiment_by_subreddit)\n",
    "print(f\"Overall sentiment: {overall_avg}\")"
   ]
  },
  {
   "cell_type": "code",
   "execution_count": 8,
   "id": "f1e501ad",
   "metadata": {},
   "outputs": [
    {
     "name": "stdout",
     "output_type": "stream",
     "text": [
      "✅ Saved sentiment snapshot to Firestore.\n"
     ]
    }
   ],
   "source": [
    "save_sentiment_summary(overall_avg)"
   ]
  },
  {
   "cell_type": "code",
   "execution_count": null,
   "id": "4565a121",
   "metadata": {},
   "outputs": [],
   "source": []
  }
 ],
 "metadata": {
  "kernelspec": {
   "display_name": ".venv",
   "language": "python",
   "name": "python3"
  },
  "language_info": {
   "codemirror_mode": {
    "name": "ipython",
    "version": 3
   },
   "file_extension": ".py",
   "mimetype": "text/x-python",
   "name": "python",
   "nbconvert_exporter": "python",
   "pygments_lexer": "ipython3",
   "version": "3.13.5"
  }
 },
 "nbformat": 4,
 "nbformat_minor": 5
}
