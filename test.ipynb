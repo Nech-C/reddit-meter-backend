{
 "cells": [
  {
   "cell_type": "code",
   "execution_count": 2,
   "id": "052e43fe",
   "metadata": {},
   "outputs": [
    {
     "data": {
      "text/plain": [
       "True"
      ]
     },
     "execution_count": 2,
     "metadata": {},
     "output_type": "execute_result"
    }
   ],
   "source": [
    "import os\n",
    "\n",
    "from dotenv import load_dotenv\n",
    "import praw\n",
    "load_dotenv()"
   ]
  },
  {
   "cell_type": "markdown",
   "id": "99af10d9",
   "metadata": {},
   "source": []
  },
  {
   "cell_type": "markdown",
   "id": "0cebbccc",
   "metadata": {},
   "source": [
    "# test reddit api"
   ]
  },
  {
   "cell_type": "code",
   "execution_count": null,
   "id": "bfb012ca",
   "metadata": {},
   "outputs": [],
   "source": [
    "try:\n",
    "    reddit = praw.Reddit(\n",
    "        client_id = os.getenv(\"REDDIT_CLIENT_ID\"),\n",
    "        client_secret = os.getenv(\"REDDIT_CLIENT_SECRET\"),\n",
    "        password = os.getenv(\"REDDIT_PASSWORD\"),\n",
    "        user_agent = os.getenv(\"REDDIT_USER_AGENT\"),\n",
    "        username = os.getenv(\"REDDIT_USERNAME\")\n",
    "    )\n",
    "except Exception as e:\n",
    "    print(f\"Error initializing Reddit client: {e}\")\n",
    "\n",
    "print(reddit.user.me())"
   ]
  },
  {
   "cell_type": "code",
   "execution_count": null,
   "id": "19a15855",
   "metadata": {},
   "outputs": [],
   "source": [
    "subreddit = reddit.subreddit(\"all\")\n",
    "posts = subreddit.hot(limit=10)"
   ]
  },
  {
   "cell_type": "code",
   "execution_count": null,
   "id": "58586576",
   "metadata": {},
   "outputs": [],
   "source": [
    "posts = list(posts)"
   ]
  },
  {
   "cell_type": "code",
   "execution_count": null,
   "id": "2c8678e5",
   "metadata": {},
   "outputs": [],
   "source": [
    "for post in posts:\n",
    "    print(f\"Title: {post.title}\")\n",
    "    print(f\"Score: {post.score}\")\n",
    "    print(f\"URL: {post.url}\")\n",
    "    print(f\"Author: {post.author}\")\n",
    "    print(f\"Created at: {post.created_utc}\")\n",
    "    print(\"-\" * 40)"
   ]
  },
  {
   "cell_type": "code",
   "execution_count": null,
   "id": "0f3c3baf",
   "metadata": {},
   "outputs": [],
   "source": [
    "popular = reddit.subreddits.popular(limit=200)\n",
    "for sub in popular:\n",
    "    print(sub.display_name)"
   ]
  },
  {
   "cell_type": "markdown",
   "id": "d4b19079",
   "metadata": {},
   "source": [
    "# test target subreddits"
   ]
  },
  {
   "cell_type": "code",
   "execution_count": 7,
   "id": "a6431b0a",
   "metadata": {},
   "outputs": [
    {
     "data": {
      "text/plain": [
       "True"
      ]
     },
     "execution_count": 7,
     "metadata": {},
     "output_type": "execute_result"
    }
   ],
   "source": [
    "import os\n",
    "\n",
    "from dotenv import load_dotenv\n",
    "import praw\n",
    "load_dotenv()"
   ]
  },
  {
   "cell_type": "code",
   "execution_count": 11,
   "id": "79c2eca3",
   "metadata": {},
   "outputs": [
    {
     "name": "stdout",
     "output_type": "stream",
     "text": [
      "Fabulous_Cherry2510\n"
     ]
    }
   ],
   "source": [
    "try:\n",
    "    print(reddit.user.me())\n",
    "except Exception as e:\n",
    "    print(\"Initializing Reddit client again...\")\n",
    "    reddit = praw.Reddit(\n",
    "        client_id = os.getenv(\"REDDIT_CLIENT_ID\"),\n",
    "        client_secret = os.getenv(\"REDDIT_CLIENT_SECRET\"),\n",
    "        password = os.getenv(\"REDDIT_PASSWORD\"),\n",
    "        user_agent = os.getenv(\"REDDIT_USER_AGENT\"),\n",
    "        username = os.getenv(\"REDDIT_USERNAME\")\n",
    "    )\n",
    "\n",
    "    print(reddit.user.me())"
   ]
  },
  {
   "cell_type": "code",
   "execution_count": 13,
   "id": "228e82a1",
   "metadata": {},
   "outputs": [
    {
     "name": "stdout",
     "output_type": "stream",
     "text": [
      "Category: News & Politics\n",
      "----------------------------------------\n",
      "Category: Finance & Economics\n",
      "----------------------------------------\n",
      "Category: Education & Questions\n",
      "----------------------------------------\n",
      "Category: Pop Culture & Entertainment\n",
      "----------------------------------------\n",
      "Category: Gaming\n",
      "----------------------------------------\n",
      "Category: Tech & Programming\n",
      "----------------------------------------\n",
      "Category: Data & Analytics\n",
      "----------------------------------------\n",
      "Category: Art & Creativity\n",
      "----------------------------------------\n",
      "Category: Memes & Humor\n",
      "----------------------------------------\n",
      "Category: Mental Health & Self\n",
      "----------------------------------------\n",
      "Category: Social & Cultural Commentary\n",
      "----------------------------------------\n",
      "Category: DIY, Science & Niche Interests\n",
      "----------------------------------------\n",
      "Category: Conflict & Reality\n",
      "----------------------------------------\n",
      "Category: NSFW & Fringe\n",
      "----------------------------------------\n"
     ]
    }
   ],
   "source": [
    "import json\n",
    "subreddit_json = \"./subreddits.json\"\n",
    "subs_by_category = json.load(open(subreddit_json, \"r\"))\n",
    "for category, subs in subs_by_category.items():\n",
    "    print(f\"Category: {category}\")\n",
    "    for sub in subs:\n",
    "        # try getting subreddit info using api\n",
    "        subreddit = reddit.subreddit(sub)\n",
    "        if subreddit:\n",
    "            pass\n",
    "            # print(f\"subreddit {subreddit.display_name} ({sub}) exists!\")\n",
    "        else:\n",
    "            print(f\"subreddit {sub} does not exist or could not be fetched.\")\n",
    "    print(\"-\" * 40)"
   ]
  },
  {
   "cell_type": "code",
   "execution_count": null,
   "id": "21c609cb",
   "metadata": {},
   "outputs": [],
   "source": []
  }
 ],
 "metadata": {
  "kernelspec": {
   "display_name": ".venv",
   "language": "python",
   "name": "python3"
  },
  "language_info": {
   "codemirror_mode": {
    "name": "ipython",
    "version": 3
   },
   "file_extension": ".py",
   "mimetype": "text/x-python",
   "name": "python",
   "nbconvert_exporter": "python",
   "pygments_lexer": "ipython3",
   "version": "3.12.9"
  }
 },
 "nbformat": 4,
 "nbformat_minor": 5
}
