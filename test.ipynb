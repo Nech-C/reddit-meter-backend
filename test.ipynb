{
 "cells": [
  {
   "cell_type": "code",
   "execution_count": 7,
   "id": "052e43fe",
   "metadata": {},
   "outputs": [
    {
     "name": "stdout",
     "output_type": "stream",
     "text": [
      "REDDIT_CLIENT_ID: iPrv4qb5mBu_JqR__dSU3w\n",
      "REDDIT_CLIENT_SECRET: kHJlE6zMQADWXLNi1tShZQ48eVblMw\n",
      "REDDIT_USER_AGENT: red-it-meter (by u/Fabulous_Cherry2510)\n",
      "REDDIT_USERNAME: Fabulous_Cherry2510\n",
      "REDDIT_PASSWORD: MASSNEch_03\n"
     ]
    }
   ],
   "source": [
    "import os\n",
    "\n",
    "from dotenv import load_dotenv\n",
    "import praw\n",
    "load_dotenv()\n",
    "\n",
    "# print all environment variables\n",
    "secrets = [\"REDDIT_CLIENT_ID\", \"REDDIT_CLIENT_SECRET\", \"REDDIT_USER_AGENT\", \"REDDIT_USERNAME\", \"REDDIT_PASSWORD\"]\n",
    "for secret in secrets:\n",
    "    print(f\"{secret}: {os.getenv(secret)}\")"
   ]
  },
  {
   "cell_type": "code",
   "execution_count": 10,
   "id": "bfb012ca",
   "metadata": {},
   "outputs": [
    {
     "name": "stdout",
     "output_type": "stream",
     "text": [
      "Fabulous_Cherry2510\n"
     ]
    }
   ],
   "source": [
    "try:\n",
    "    reddit = praw.Reddit(\n",
    "        client_id = os.getenv(\"REDDIT_CLIENT_ID\"),\n",
    "        client_secret = os.getenv(\"REDDIT_CLIENT_SECRET\"),\n",
    "        password = os.getenv(\"REDDIT_PASSWORD\"),\n",
    "        user_agent = os.getenv(\"REDDIT_USER_AGENT\"),\n",
    "        username = os.getenv(\"REDDIT_USERNAME\")\n",
    "    )\n",
    "except Exception as e:\n",
    "    print(f\"Error initializing Reddit client: {e}\")\n",
    "\n",
    "print(reddit.user.me())"
   ]
  },
  {
   "cell_type": "code",
   "execution_count": 22,
   "id": "19a15855",
   "metadata": {},
   "outputs": [],
   "source": [
    "subreddit = reddit.subreddit(\"all\")\n",
    "posts = subreddit.hot(limit=10)"
   ]
  },
  {
   "cell_type": "code",
   "execution_count": 23,
   "id": "58586576",
   "metadata": {},
   "outputs": [],
   "source": [
    "posts = list(posts)"
   ]
  },
  {
   "cell_type": "code",
   "execution_count": 24,
   "id": "2c8678e5",
   "metadata": {},
   "outputs": [
    {
     "name": "stdout",
     "output_type": "stream",
     "text": [
      "Title: Self-Inflicted Harm...\n",
      "Score: 31646\n",
      "URL: https://i.redd.it/ed24viwnep8f1.jpeg\n",
      "Author: CapitanJackSparow-33\n",
      "Created at: 1750696210.0\n",
      "----------------------------------------\n",
      "Title: Old age and treachery\n",
      "Score: 43474\n",
      "URL: https://v.redd.it/q836wk53dp8f1\n",
      "Author: Boundaries1st\n",
      "Created at: 1750695769.0\n",
      "----------------------------------------\n",
      "Title: Tooter is looking awfully polite\n",
      "Score: 20289\n",
      "URL: https://www.reddit.com/gallery/1lilimr\n",
      "Author: ShevaunA\n",
      "Created at: 1750696905.0\n",
      "----------------------------------------\n",
      "Title: Maybe he was\n",
      "Score: 25917\n",
      "URL: https://i.redd.it/b0aids29ep8f1.jpeg\n",
      "Author: IdeaOrdinary48\n",
      "Created at: 1750696074.0\n",
      "----------------------------------------\n",
      "Title: What is it? The braids?\n",
      "Score: 15458\n",
      "URL: https://i.redd.it/8zbtq97ulp8f1.jpeg\n",
      "Author: ThickCapital\n",
      "Created at: 1750698621.0\n",
      "----------------------------------------\n",
      "Title: Aruba sun got me\n",
      "Score: 11661\n",
      "URL: https://i.redd.it/ufucrz2mtp8f1.jpeg\n",
      "Author: dogmom4life13\n",
      "Created at: 1750701236.0\n",
      "----------------------------------------\n",
      "Title: Finally and easy way to cancel my gym membership.\n",
      "Score: 39613\n",
      "URL: https://i.redd.it/gsc7qvzjvo8f1.jpeg\n",
      "Author: black-toe-nails\n",
      "Created at: 1750689873.0\n",
      "----------------------------------------\n",
      "Title: maybe maybe maybe\n",
      "Score: 11774\n",
      "URL: https://v.redd.it/05pse8k7np8f1\n",
      "Author: vashmeow\n",
      "Created at: 1750699292.0\n",
      "----------------------------------------\n",
      "Title: OC: Iran says it launched strikes targeting U.S. military base in Qatar\n",
      "Score: 8899\n",
      "URL: https://i.redd.it/72yt1cfbtp8f1.jpeg\n",
      "Author: nbcnews\n",
      "Created at: 1750701142.0\n",
      "----------------------------------------\n",
      "Title: Iran launches missiles at U.S. military bases in Middle East\n",
      "Score: 11318\n",
      "URL: https://www.axios.com/2025/06/23/iran-retaliation-trump-israel-war\n",
      "Author: mvanigan\n",
      "Created at: 1750697147.0\n",
      "----------------------------------------\n"
     ]
    }
   ],
   "source": [
    "for post in posts:\n",
    "    print(f\"Title: {post.title}\")\n",
    "    print(f\"Score: {post.score}\")\n",
    "    print(f\"URL: {post.url}\")\n",
    "    print(f\"Author: {post.author}\")\n",
    "    print(f\"Created at: {post.created_utc}\")\n",
    "    print(\"-\" * 40)"
   ]
  },
  {
   "cell_type": "code",
   "execution_count": 25,
   "id": "0f3c3baf",
   "metadata": {},
   "outputs": [
    {
     "name": "stdout",
     "output_type": "stream",
     "text": [
      "Home\n",
      "AskReddit\n",
      "NoStupidQuestions\n",
      "BaldursGate3\n",
      "facepalm\n",
      "interestingasfuck\n",
      "Damnthatsinteresting\n",
      "LivestreamFail\n",
      "pics\n",
      "Palworld\n",
      "AmItheAsshole\n",
      "mildlyinfuriating\n",
      "Piracy\n",
      "PeterExplainsTheJoke\n",
      "funny\n",
      "AITAH\n",
      "movies\n",
      "Helldivers\n",
      "gaming\n",
      "worldnews\n",
      "leagueoflegends\n",
      "pcmasterrace\n",
      "Unexpected\n",
      "news\n",
      "politics\n",
      "wallstreetbets\n",
      "todayilearned\n",
      "nottheonion\n",
      "memes\n",
      "PublicFreakout\n",
      "Wellthatsucks\n",
      "explainlikeimfive\n",
      "OutOfTheLoop\n",
      "OnePiece\n",
      "BlackPeopleTwitter\n",
      "buildapc\n",
      "HonkaiStarRail\n",
      "SipsTea\n",
      "Minecraft\n",
      "mildlyinteresting\n",
      "nfl\n",
      "BeAmazed\n",
      "DIY\n",
      "nba\n",
      "MapPorn\n",
      "Steam\n",
      "Overwatch\n",
      "Genshin_Impact\n",
      "classicwow\n",
      "soccer\n",
      "Eldenring\n",
      "badroommates\n",
      "personalfinance\n",
      "antiwork\n",
      "anime\n",
      "wow\n",
      "DnD\n",
      "technology\n",
      "WhitePeopleTwitter\n",
      "EscapefromTarkov\n",
      "unpopularopinion\n",
      "popculturechat\n",
      "videos\n",
      "BestofRedditorUpdates\n",
      "youtube\n",
      "legaladvice\n",
      "ffxiv\n",
      "sysadmin\n",
      "MadeMeSmile\n",
      "CombatFootage\n",
      "relationship_advice\n",
      "discordapp\n",
      "pcgaming\n",
      "Games\n",
      "ChatGPT\n",
      "GlobalOffensive\n",
      "2007scape\n",
      "formula1\n",
      "CuratedTumblr\n",
      "Gamingcirclejerk\n",
      "TikTokCringe\n",
      "PiratedGames\n",
      "techsupport\n",
      "shitposting\n",
      "theydidthemath\n",
      "malelivingspace\n",
      "WTF\n",
      "cyberpunkgame\n",
      "OldSchoolCool\n",
      "coolguides\n",
      "AskMen\n",
      "dankmemes\n",
      "feedthebeast\n",
      "Warframe\n",
      "UkraineWarVideoReport\n",
      "SteamDeck\n",
      "college\n",
      "manga\n",
      "CrazyFuckingVideos\n",
      "rareinsults\n"
     ]
    }
   ],
   "source": [
    "popular = reddit.subreddits.popular(limit=100)\n",
    "for sub in popular:\n",
    "    print(sub.display_name)"
   ]
  },
  {
   "cell_type": "code",
   "execution_count": null,
   "id": "de3d492c",
   "metadata": {},
   "outputs": [],
   "source": []
  }
 ],
 "metadata": {
  "kernelspec": {
   "display_name": ".venv",
   "language": "python",
   "name": "python3"
  },
  "language_info": {
   "codemirror_mode": {
    "name": "ipython",
    "version": 3
   },
   "file_extension": ".py",
   "mimetype": "text/x-python",
   "name": "python",
   "nbconvert_exporter": "python",
   "pygments_lexer": "ipython3",
   "version": "3.12.9"
  }
 },
 "nbformat": 4,
 "nbformat_minor": 5
}
